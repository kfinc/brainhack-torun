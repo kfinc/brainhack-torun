{
 "cells": [
  {
   "cell_type": "markdown",
   "metadata": {},
   "source": [
    "# Reading and plotting data in Python"
   ]
  },
  {
   "cell_type": "markdown",
   "metadata": {},
   "source": [
    "## What's the difference between random image and brain image?"
   ]
  },
  {
   "cell_type": "markdown",
   "metadata": {},
   "source": [
    "<img src=\"images/doge.jpg\" width=\"180\"> <img src=\"images/mri.png\" width=\"170\">"
   ]
  },
  {
   "cell_type": "markdown",
   "metadata": {},
   "source": [
    "### Tasks (part I):\n",
    "\n",
    "1. Load doge image from data folder\n",
    "2. Plot doge image\n",
    "3. Print dimensions of the image\n",
    "4. Select one channel of the image and plot it\n",
    "5. Change colormap of this image"
   ]
  },
  {
   "cell_type": "markdown",
   "metadata": {},
   "source": [
    "## Image plotting"
   ]
  },
  {
   "cell_type": "code",
   "execution_count": 23,
   "metadata": {},
   "outputs": [],
   "source": [
    "# Loading libraries\n",
    "import matplotlib.pyplot as plt # General plotting\n",
    "import matplotlib.image as mpimg # Loading img files\n",
    "\n",
    "import numpy as np # Matrix operations"
   ]
  },
  {
   "cell_type": "code",
   "execution_count": 105,
   "metadata": {},
   "outputs": [],
   "source": [
    "# Loading doge file\n",
    "doge = mpimg.imread('images/doge.jpg')\n",
    "\n",
    "# Plot doge image\n"
   ]
  },
  {
   "cell_type": "code",
   "execution_count": 20,
   "metadata": {},
   "outputs": [],
   "source": [
    "# Print dimensions of the image\n"
   ]
  },
  {
   "cell_type": "markdown",
   "metadata": {},
   "source": [
    "RGB - three channels (R - red, G - green, B - blue). A channel inis the grayscale image of the same size as a color image, made of just one of these primary colors."
   ]
  },
  {
   "cell_type": "code",
   "execution_count": 22,
   "metadata": {},
   "outputs": [],
   "source": [
    "# Select one channel of the image and plot it\n"
   ]
  },
  {
   "cell_type": "code",
   "execution_count": 34,
   "metadata": {},
   "outputs": [],
   "source": [
    "# Change colormap of this image\n"
   ]
  },
  {
   "cell_type": "markdown",
   "metadata": {},
   "source": [
    "### Tasks (part II):\n",
    "1. Load and plot cat image\n",
    "2. Change 2D images to 1D vectors\n",
    "3. Plot distribution of cat and doge images intensity on one histogram\n",
    "3. Plot relationship between doge and cat as matplotlib scatterplot\n",
    "4. Plot relationship between doge and cat as seaborn regplot\n",
    "5. Calculate Pearson's correlation between cat and doge\n",
    "5. Add (or multiply) doge and cat and plot them with imshow"
   ]
  },
  {
   "cell_type": "code",
   "execution_count": 35,
   "metadata": {},
   "outputs": [],
   "source": [
    "# Loading amd plotting cat file\n"
   ]
  },
  {
   "cell_type": "code",
   "execution_count": 38,
   "metadata": {},
   "outputs": [],
   "source": [
    "# Make 2D array flat!\n"
   ]
  },
  {
   "cell_type": "code",
   "execution_count": 49,
   "metadata": {},
   "outputs": [],
   "source": [
    "# Plot distribution of cat and doge images intensity on one histogram\n"
   ]
  },
  {
   "cell_type": "code",
   "execution_count": null,
   "metadata": {},
   "outputs": [],
   "source": [
    "# Plot relationship between doge and cat as matplotlib scatterplot\n"
   ]
  },
  {
   "cell_type": "code",
   "execution_count": 61,
   "metadata": {},
   "outputs": [],
   "source": [
    "# Plot relationship between doge and cat as seaborn regplot\n",
    "import seaborn as sns\n",
    "\n"
   ]
  },
  {
   "cell_type": "code",
   "execution_count": 40,
   "metadata": {},
   "outputs": [],
   "source": [
    "# Calculate Pearson's correlation between cat and doge\n",
    "from scipy import stats\n",
    "\n"
   ]
  },
  {
   "cell_type": "code",
   "execution_count": 59,
   "metadata": {},
   "outputs": [],
   "source": [
    "# Add (or multiply) doge and cat and plot them with imshow\n"
   ]
  },
  {
   "cell_type": "markdown",
   "metadata": {},
   "source": [
    "## How to plot brains?"
   ]
  },
  {
   "cell_type": "markdown",
   "metadata": {},
   "source": [
    "<img src=\"images/brain_images.png\" width=\"800\"> "
   ]
  },
  {
   "cell_type": "markdown",
   "metadata": {},
   "source": [
    "## Structural MRI images plotting"
   ]
  },
  {
   "cell_type": "markdown",
   "metadata": {},
   "source": [
    "### Tasks (part III):\n",
    "\n",
    "1. Load structural T1 file\n",
    "2. Print type of the data\n",
    "3. Print dimensions of T1 file\n",
    "4. Print T1 image in Nilearn\n",
    "5. Change colormap of image"
   ]
  },
  {
   "cell_type": "code",
   "execution_count": 71,
   "metadata": {},
   "outputs": [],
   "source": [
    "import nibabel as nib\n",
    "from nilearn import plotting, image"
   ]
  },
  {
   "cell_type": "code",
   "execution_count": 66,
   "metadata": {},
   "outputs": [],
   "source": [
    "# Load structural T1 file\n",
    "t1_path = 'data/sub-01_T1w_space-MNI152NLin2009cAsym_preproc.nii.gz'\n",
    "t1_file = image.load_img(t1_path)"
   ]
  },
  {
   "cell_type": "code",
   "execution_count": 72,
   "metadata": {},
   "outputs": [],
   "source": [
    "# Print dimensions of T1 file\n"
   ]
  },
  {
   "cell_type": "code",
   "execution_count": 76,
   "metadata": {},
   "outputs": [],
   "source": [
    "# Print T1 image in Nilearn (use plotting.plot_img)\n",
    "# Change colormap of image \n"
   ]
  },
  {
   "cell_type": "markdown",
   "metadata": {},
   "source": [
    "## Functional MRI images plotting"
   ]
  },
  {
   "cell_type": "markdown",
   "metadata": {},
   "source": [
    "### Tasks (part IV):\n",
    "\n",
    "1. Load structural fMRI file\n",
    "2. Print dimensions of fMRI file\n",
    "3. Select one timepoint of fMRI image and plot it in nilearn\n",
    "4. Convert nibabel file to numpy array\n",
    "5. Plot one timepoint of numpy array with imshow\n",
    "4. Plot timeseries of few voxels\n",
    "5. Plot relationship between two random voxels"
   ]
  },
  {
   "cell_type": "code",
   "execution_count": 80,
   "metadata": {},
   "outputs": [],
   "source": [
    "# Loading fMRI file\n",
    "fmri_path = 'data/sub-01_ses-1_task-rest_bold_space-MNI152NLin2009cAsym_preproc.nii.gz'\n",
    "fmri_file = image.load_img(fmri_path)\n"
   ]
  },
  {
   "cell_type": "code",
   "execution_count": 78,
   "metadata": {},
   "outputs": [],
   "source": [
    "# Print dimensions of fMRI file\n",
    "plotting.plot_img()"
   ]
  },
  {
   "cell_type": "code",
   "execution_count": 84,
   "metadata": {},
   "outputs": [],
   "source": [
    "# Select one timepoint of fMRI image and plot it in nilearn\n",
    "fmri_s1 = image.index_img(fmri_path, 0)\n",
    "\n",
    "# Plot"
   ]
  },
  {
   "cell_type": "code",
   "execution_count": 94,
   "metadata": {},
   "outputs": [],
   "source": [
    "# Convert nibabel file to numpy array\n",
    "fmri_file_array = fmri_file.get_data()\n",
    "\n",
    "# Check type and dimensions\n"
   ]
  },
  {
   "cell_type": "code",
   "execution_count": 104,
   "metadata": {},
   "outputs": [],
   "source": [
    "# Plot one timepoint of numpy array with imshow\n"
   ]
  },
  {
   "cell_type": "code",
   "execution_count": 102,
   "metadata": {},
   "outputs": [],
   "source": [
    "# Plot timeseries of few voxels\n"
   ]
  },
  {
   "cell_type": "code",
   "execution_count": null,
   "metadata": {},
   "outputs": [],
   "source": [
    "# Plot relationship between two random voxels\n"
   ]
  },
  {
   "cell_type": "markdown",
   "metadata": {},
   "source": [
    "## Statistical maps plotting"
   ]
  },
  {
   "cell_type": "markdown",
   "metadata": {},
   "source": [
    "### Tasks (part IV):\n",
    "\n",
    "1. Load statistical zmap\n",
    "2. Print dimensions of zmap file\n",
    "3. Plot zmap on glass brain\n",
    "4. Plot zmap on brain slices\n",
    "5. Plot zmap on structural image"
   ]
  },
  {
   "cell_type": "code",
   "execution_count": 111,
   "metadata": {},
   "outputs": [],
   "source": [
    "# Load statistical zmap\n",
    "zmap_path = 'data/sub-01_ses-1_task-dualnback_bold_space-MNI152NLin2009cAsym_preproc_2b_minus_1b_zmap.nii.gz'\n"
   ]
  },
  {
   "cell_type": "code",
   "execution_count": null,
   "metadata": {},
   "outputs": [],
   "source": [
    "# Print dimensions of zmap file\n"
   ]
  },
  {
   "cell_type": "code",
   "execution_count": 118,
   "metadata": {},
   "outputs": [],
   "source": [
    "# Plot zmap on glass brain (plotting.plot_glass_brain,  plot_abs=False)\n"
   ]
  },
  {
   "cell_type": "code",
   "execution_count": 126,
   "metadata": {},
   "outputs": [],
   "source": [
    "# Plot zmap on brain slices (plotting.plot_stat_map)\n"
   ]
  },
  {
   "cell_type": "code",
   "execution_count": 125,
   "metadata": {},
   "outputs": [],
   "source": [
    "# Plot zmap on structural image (bg_img=)"
   ]
  }
 ],
 "metadata": {
  "kernelspec": {
   "display_name": "Python 3",
   "language": "python",
   "name": "python3"
  },
  "language_info": {
   "codemirror_mode": {
    "name": "ipython",
    "version": 3
   },
   "file_extension": ".py",
   "mimetype": "text/x-python",
   "name": "python",
   "nbconvert_exporter": "python",
   "pygments_lexer": "ipython3",
   "version": "3.7.3"
  }
 },
 "nbformat": 4,
 "nbformat_minor": 2
}
